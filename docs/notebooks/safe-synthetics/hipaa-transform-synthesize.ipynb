{
  "cells": [
    {
      "cell_type": "markdown",
      "metadata": {
        "id": "view-in-github",
        "colab_type": "text"
      },
      "source": [
        "<a href=\"https://colab.research.google.com/github/Hoilap/Lab_demo/blob/main/docs/notebooks/safe-synthetics/hipaa-transform-synthesize.ipynb\" target=\"_parent\"><img src=\"https://colab.research.google.com/assets/colab-badge.svg\" alt=\"Open In Colab\"/></a>"
      ]
    },
    {
      "cell_type": "markdown",
      "metadata": {
        "id": "e7280389"
      },
      "source": [
        "<a target=\"_parent\" href=\"https://colab.research.google.com/github/gretelai/gretel-blueprints/blob/main/docs/notebooks/safe-synthetics/hipaa-transform-synthesize.ipynb\">\n",
        "  <img src=\"https://colab.research.google.com/assets/colab-badge.svg\" alt=\"Open In Colab\"/>\n",
        "</a>"
      ]
    },
    {
      "cell_type": "markdown",
      "metadata": {
        "id": "VI628E1m319C"
      },
      "source": [
        "# ⚕ Using Safe Synthetics to support HIPAA compliance\n",
        "\n",
        "This notebook leverages tailor-made configurations for Safe Synthetics to support HIPAA compliance. You can try with the sample dataset, or test it out using your own dataset.\n",
        "\n",
        "After specifying a dataset, this notebook will holdout 5% to use for calculating quality & privacy metrics at the end. It will then redact true identifiers in your dataset such as names and addresses, and synthesize your data to obfuscate quasi-identifiers. Finally, it will generate a report for you to measure the quality & privacy of your synthetic data."
      ]
    },
    {
      "cell_type": "markdown",
      "metadata": {
        "id": "ZGI3LGmw6sZ_"
      },
      "source": [
        "## 💾 Install Gretel SDK"
      ]
    },
    {
      "cell_type": "code",
      "execution_count": null,
      "metadata": {
        "id": "ubmyh3IVoL7w"
      },
      "outputs": [],
      "source": [
        "%%capture\n",
        "\n",
        "%pip install -U gretel-client"
      ]
    },
    {
      "cell_type": "markdown",
      "metadata": {
        "id": "zdYS9p2e7G3n"
      },
      "source": [
        "## 🌐 Configure your Gretel Session"
      ]
    },
    {
      "cell_type": "code",
      "execution_count": null,
      "metadata": {
        "id": "JF2cRncBoT1P"
      },
      "outputs": [],
      "source": [
        "from gretel_client.navigator_client import Gretel\n",
        "\n",
        "gretel = Gretel(api_key=\"prompt\")"
      ]
    },
    {
      "cell_type": "markdown",
      "metadata": {
        "id": "PPXnrcfH7SJ-"
      },
      "source": [
        "## 🔬 Preview input data"
      ]
    },
    {
      "cell_type": "code",
      "execution_count": null,
      "metadata": {
        "id": "4KULZsmkowgk"
      },
      "outputs": [],
      "source": [
        "import pandas as pd\n",
        "ds = \"https://gretel-datasets.s3.us-west-2.amazonaws.com/hipaa_patients.csv\"\n",
        "df = pd.read_csv(ds)\n",
        "\n",
        "print(f\"Number of rows: {len(df)}\")\n",
        "df.head()"
      ]
    },
    {
      "cell_type": "markdown",
      "metadata": {
        "id": "DCYc1Wza72lA"
      },
      "source": [
        "## 🏃 Run Safe Synthetics"
      ]
    },
    {
      "cell_type": "code",
      "execution_count": null,
      "metadata": {
        "colab": {
          "background_save": true
        },
        "id": "5jQAciloopLn"
      },
      "outputs": [],
      "source": [
        "synthetic_dataset = gretel.safe_synthetic_dataset\\\n",
        "    .from_data_source(ds) \\\n",
        "    .transform(\"transform/hipaa\") \\\n",
        "    .synthesize(\"tabular_ft\", {\"train\": {\"params\": {\"num_input_records_to_sample\": 10000}}}, num_records=1000) \\\n",
        "    .create()"
      ]
    },
    {
      "cell_type": "code",
      "execution_count": null,
      "metadata": {
        "id": "8mN4l7peGgwL"
      },
      "outputs": [],
      "source": [
        "synthetic_dataset.wait_until_done()"
      ]
    },
    {
      "cell_type": "markdown",
      "metadata": {
        "id": "PiyVwFNV8Xu3"
      },
      "source": [
        "## 🔬 Preview output data"
      ]
    },
    {
      "cell_type": "code",
      "execution_count": 6,
      "metadata": {
        "colab": {
          "base_uri": "https://localhost:8080/",
          "height": 591
        },
        "id": "GDOmyMKVSSrU",
        "outputId": "cb0c1010-d883-4aa5-f9f7-d04fb2d8297b"
      },
      "outputs": [
        {
          "output_type": "execute_result",
          "data": {
            "text/plain": [
              "      patient_id first_name last_name date_of_birth  \\\n",
              "0  pmc-6283709-1      Debra    Parker    05/02/1947   \n",
              "1  pmc-6415376-2   Jennifer     Ellis    11/21/1949   \n",
              "2  pmc-6433976-1      Tracy   Wallace    11/22/1947   \n",
              "3  pmc-6431957-1       Mary   Bradley    12/08/2013   \n",
              "4  pmc-6163617-1      Allen  Carrillo    01/23/1964   \n",
              "\n",
              "                        race  weight  height           event_type  event_date  \\\n",
              "0                      Asian   180.0    63.0            Admission  01/20/2023   \n",
              "1                      White   150.0    62.0              Symptom  04/12/2023   \n",
              "2  Black or African American   185.0    70.0       Diagnosis Test  03/15/2023   \n",
              "3                      Other    50.0    45.0  Medical Examination  07/01/2022   \n",
              "4                   Hispanic   178.0    70.0            Admission  10/12/2023   \n",
              "\n",
              "                  event_name              provider_name  \\\n",
              "0                         \\N     South General Hospital   \n",
              "1  Abdominal pain assessment            Dr. Imani Patel   \n",
              "2                   HIV test             Central Clinic   \n",
              "3         Initial Evaluation  University Medical Center   \n",
              "4                       Null    Saint Mary's Healthcare   \n",
              "\n",
              "                                              reason  \\\n",
              "0   Hyperthermia and symptoms of heatstroke detected   \n",
              "1  Reporting abdominal pain in left upper quadran...   \n",
              "2                                    Routine checkup   \n",
              "3                                  Exposure to smoke   \n",
              "4      Discharge from hospital due to COVID pandemic   \n",
              "\n",
              "                                              result  \\\n",
              "0                    Stable condition upon admission   \n",
              "1                             Non-tender, non-bloody   \n",
              "2                                           Positive   \n",
              "3          Normal vitals except increased heart rate   \n",
              "4  Patients were transferred to ICU upon arrival ...   \n",
              "\n",
              "                                             details  \\\n",
              "0                                                 {}   \n",
              "1  {\"intensity\":\"moderate\", \"location\":\"left uppe...   \n",
              "2   {\"dosage\":null,\"frequency\":null,\"referral\":null}   \n",
              "3  {\"intensity\": null, \"locaton\": null, \"dosage\":...   \n",
              "4                                                 {}   \n",
              "\n",
              "                                               notes  \n",
              "0  Patient presented with severe heat exhaustion,...  \n",
              "1  The patient showed moderate tenderness during ...  \n",
              "2  The HIV test showed positive results confirmin...  \n",
              "3  Patient shows signs of distress after exposure...  \n",
              "4  Our patients met no immediate complications ot...  "
            ],
            "text/html": [
              "\n",
              "  <div id=\"df-75d83e3a-e520-40b3-a7a0-0de57c886144\" class=\"colab-df-container\">\n",
              "    <div>\n",
              "<style scoped>\n",
              "    .dataframe tbody tr th:only-of-type {\n",
              "        vertical-align: middle;\n",
              "    }\n",
              "\n",
              "    .dataframe tbody tr th {\n",
              "        vertical-align: top;\n",
              "    }\n",
              "\n",
              "    .dataframe thead th {\n",
              "        text-align: right;\n",
              "    }\n",
              "</style>\n",
              "<table border=\"1\" class=\"dataframe\">\n",
              "  <thead>\n",
              "    <tr style=\"text-align: right;\">\n",
              "      <th></th>\n",
              "      <th>patient_id</th>\n",
              "      <th>first_name</th>\n",
              "      <th>last_name</th>\n",
              "      <th>date_of_birth</th>\n",
              "      <th>race</th>\n",
              "      <th>weight</th>\n",
              "      <th>height</th>\n",
              "      <th>event_type</th>\n",
              "      <th>event_date</th>\n",
              "      <th>event_name</th>\n",
              "      <th>provider_name</th>\n",
              "      <th>reason</th>\n",
              "      <th>result</th>\n",
              "      <th>details</th>\n",
              "      <th>notes</th>\n",
              "    </tr>\n",
              "  </thead>\n",
              "  <tbody>\n",
              "    <tr>\n",
              "      <th>0</th>\n",
              "      <td>pmc-6283709-1</td>\n",
              "      <td>Debra</td>\n",
              "      <td>Parker</td>\n",
              "      <td>05/02/1947</td>\n",
              "      <td>Asian</td>\n",
              "      <td>180.0</td>\n",
              "      <td>63.0</td>\n",
              "      <td>Admission</td>\n",
              "      <td>01/20/2023</td>\n",
              "      <td>\\N</td>\n",
              "      <td>South General Hospital</td>\n",
              "      <td>Hyperthermia and symptoms of heatstroke detected</td>\n",
              "      <td>Stable condition upon admission</td>\n",
              "      <td>{}</td>\n",
              "      <td>Patient presented with severe heat exhaustion,...</td>\n",
              "    </tr>\n",
              "    <tr>\n",
              "      <th>1</th>\n",
              "      <td>pmc-6415376-2</td>\n",
              "      <td>Jennifer</td>\n",
              "      <td>Ellis</td>\n",
              "      <td>11/21/1949</td>\n",
              "      <td>White</td>\n",
              "      <td>150.0</td>\n",
              "      <td>62.0</td>\n",
              "      <td>Symptom</td>\n",
              "      <td>04/12/2023</td>\n",
              "      <td>Abdominal pain assessment</td>\n",
              "      <td>Dr. Imani Patel</td>\n",
              "      <td>Reporting abdominal pain in left upper quadran...</td>\n",
              "      <td>Non-tender, non-bloody</td>\n",
              "      <td>{\"intensity\":\"moderate\", \"location\":\"left uppe...</td>\n",
              "      <td>The patient showed moderate tenderness during ...</td>\n",
              "    </tr>\n",
              "    <tr>\n",
              "      <th>2</th>\n",
              "      <td>pmc-6433976-1</td>\n",
              "      <td>Tracy</td>\n",
              "      <td>Wallace</td>\n",
              "      <td>11/22/1947</td>\n",
              "      <td>Black or African American</td>\n",
              "      <td>185.0</td>\n",
              "      <td>70.0</td>\n",
              "      <td>Diagnosis Test</td>\n",
              "      <td>03/15/2023</td>\n",
              "      <td>HIV test</td>\n",
              "      <td>Central Clinic</td>\n",
              "      <td>Routine checkup</td>\n",
              "      <td>Positive</td>\n",
              "      <td>{\"dosage\":null,\"frequency\":null,\"referral\":null}</td>\n",
              "      <td>The HIV test showed positive results confirmin...</td>\n",
              "    </tr>\n",
              "    <tr>\n",
              "      <th>3</th>\n",
              "      <td>pmc-6431957-1</td>\n",
              "      <td>Mary</td>\n",
              "      <td>Bradley</td>\n",
              "      <td>12/08/2013</td>\n",
              "      <td>Other</td>\n",
              "      <td>50.0</td>\n",
              "      <td>45.0</td>\n",
              "      <td>Medical Examination</td>\n",
              "      <td>07/01/2022</td>\n",
              "      <td>Initial Evaluation</td>\n",
              "      <td>University Medical Center</td>\n",
              "      <td>Exposure to smoke</td>\n",
              "      <td>Normal vitals except increased heart rate</td>\n",
              "      <td>{\"intensity\": null, \"locaton\": null, \"dosage\":...</td>\n",
              "      <td>Patient shows signs of distress after exposure...</td>\n",
              "    </tr>\n",
              "    <tr>\n",
              "      <th>4</th>\n",
              "      <td>pmc-6163617-1</td>\n",
              "      <td>Allen</td>\n",
              "      <td>Carrillo</td>\n",
              "      <td>01/23/1964</td>\n",
              "      <td>Hispanic</td>\n",
              "      <td>178.0</td>\n",
              "      <td>70.0</td>\n",
              "      <td>Admission</td>\n",
              "      <td>10/12/2023</td>\n",
              "      <td>Null</td>\n",
              "      <td>Saint Mary's Healthcare</td>\n",
              "      <td>Discharge from hospital due to COVID pandemic</td>\n",
              "      <td>Patients were transferred to ICU upon arrival ...</td>\n",
              "      <td>{}</td>\n",
              "      <td>Our patients met no immediate complications ot...</td>\n",
              "    </tr>\n",
              "  </tbody>\n",
              "</table>\n",
              "</div>\n",
              "    <div class=\"colab-df-buttons\">\n",
              "\n",
              "  <div class=\"colab-df-container\">\n",
              "    <button class=\"colab-df-convert\" onclick=\"convertToInteractive('df-75d83e3a-e520-40b3-a7a0-0de57c886144')\"\n",
              "            title=\"Convert this dataframe to an interactive table.\"\n",
              "            style=\"display:none;\">\n",
              "\n",
              "  <svg xmlns=\"http://www.w3.org/2000/svg\" height=\"24px\" viewBox=\"0 -960 960 960\">\n",
              "    <path d=\"M120-120v-720h720v720H120Zm60-500h600v-160H180v160Zm220 220h160v-160H400v160Zm0 220h160v-160H400v160ZM180-400h160v-160H180v160Zm440 0h160v-160H620v160ZM180-180h160v-160H180v160Zm440 0h160v-160H620v160Z\"/>\n",
              "  </svg>\n",
              "    </button>\n",
              "\n",
              "  <style>\n",
              "    .colab-df-container {\n",
              "      display:flex;\n",
              "      gap: 12px;\n",
              "    }\n",
              "\n",
              "    .colab-df-convert {\n",
              "      background-color: #E8F0FE;\n",
              "      border: none;\n",
              "      border-radius: 50%;\n",
              "      cursor: pointer;\n",
              "      display: none;\n",
              "      fill: #1967D2;\n",
              "      height: 32px;\n",
              "      padding: 0 0 0 0;\n",
              "      width: 32px;\n",
              "    }\n",
              "\n",
              "    .colab-df-convert:hover {\n",
              "      background-color: #E2EBFA;\n",
              "      box-shadow: 0px 1px 2px rgba(60, 64, 67, 0.3), 0px 1px 3px 1px rgba(60, 64, 67, 0.15);\n",
              "      fill: #174EA6;\n",
              "    }\n",
              "\n",
              "    .colab-df-buttons div {\n",
              "      margin-bottom: 4px;\n",
              "    }\n",
              "\n",
              "    [theme=dark] .colab-df-convert {\n",
              "      background-color: #3B4455;\n",
              "      fill: #D2E3FC;\n",
              "    }\n",
              "\n",
              "    [theme=dark] .colab-df-convert:hover {\n",
              "      background-color: #434B5C;\n",
              "      box-shadow: 0px 1px 3px 1px rgba(0, 0, 0, 0.15);\n",
              "      filter: drop-shadow(0px 1px 2px rgba(0, 0, 0, 0.3));\n",
              "      fill: #FFFFFF;\n",
              "    }\n",
              "  </style>\n",
              "\n",
              "    <script>\n",
              "      const buttonEl =\n",
              "        document.querySelector('#df-75d83e3a-e520-40b3-a7a0-0de57c886144 button.colab-df-convert');\n",
              "      buttonEl.style.display =\n",
              "        google.colab.kernel.accessAllowed ? 'block' : 'none';\n",
              "\n",
              "      async function convertToInteractive(key) {\n",
              "        const element = document.querySelector('#df-75d83e3a-e520-40b3-a7a0-0de57c886144');\n",
              "        const dataTable =\n",
              "          await google.colab.kernel.invokeFunction('convertToInteractive',\n",
              "                                                    [key], {});\n",
              "        if (!dataTable) return;\n",
              "\n",
              "        const docLinkHtml = 'Like what you see? Visit the ' +\n",
              "          '<a target=\"_blank\" href=https://colab.research.google.com/notebooks/data_table.ipynb>data table notebook</a>'\n",
              "          + ' to learn more about interactive tables.';\n",
              "        element.innerHTML = '';\n",
              "        dataTable['output_type'] = 'display_data';\n",
              "        await google.colab.output.renderOutput(dataTable, element);\n",
              "        const docLink = document.createElement('div');\n",
              "        docLink.innerHTML = docLinkHtml;\n",
              "        element.appendChild(docLink);\n",
              "      }\n",
              "    </script>\n",
              "  </div>\n",
              "\n",
              "\n",
              "    <div id=\"df-9aa3beef-5c2e-40d2-ab3b-1738e65a8204\">\n",
              "      <button class=\"colab-df-quickchart\" onclick=\"quickchart('df-9aa3beef-5c2e-40d2-ab3b-1738e65a8204')\"\n",
              "                title=\"Suggest charts\"\n",
              "                style=\"display:none;\">\n",
              "\n",
              "<svg xmlns=\"http://www.w3.org/2000/svg\" height=\"24px\"viewBox=\"0 0 24 24\"\n",
              "     width=\"24px\">\n",
              "    <g>\n",
              "        <path d=\"M19 3H5c-1.1 0-2 .9-2 2v14c0 1.1.9 2 2 2h14c1.1 0 2-.9 2-2V5c0-1.1-.9-2-2-2zM9 17H7v-7h2v7zm4 0h-2V7h2v10zm4 0h-2v-4h2v4z\"/>\n",
              "    </g>\n",
              "</svg>\n",
              "      </button>\n",
              "\n",
              "<style>\n",
              "  .colab-df-quickchart {\n",
              "      --bg-color: #E8F0FE;\n",
              "      --fill-color: #1967D2;\n",
              "      --hover-bg-color: #E2EBFA;\n",
              "      --hover-fill-color: #174EA6;\n",
              "      --disabled-fill-color: #AAA;\n",
              "      --disabled-bg-color: #DDD;\n",
              "  }\n",
              "\n",
              "  [theme=dark] .colab-df-quickchart {\n",
              "      --bg-color: #3B4455;\n",
              "      --fill-color: #D2E3FC;\n",
              "      --hover-bg-color: #434B5C;\n",
              "      --hover-fill-color: #FFFFFF;\n",
              "      --disabled-bg-color: #3B4455;\n",
              "      --disabled-fill-color: #666;\n",
              "  }\n",
              "\n",
              "  .colab-df-quickchart {\n",
              "    background-color: var(--bg-color);\n",
              "    border: none;\n",
              "    border-radius: 50%;\n",
              "    cursor: pointer;\n",
              "    display: none;\n",
              "    fill: var(--fill-color);\n",
              "    height: 32px;\n",
              "    padding: 0;\n",
              "    width: 32px;\n",
              "  }\n",
              "\n",
              "  .colab-df-quickchart:hover {\n",
              "    background-color: var(--hover-bg-color);\n",
              "    box-shadow: 0 1px 2px rgba(60, 64, 67, 0.3), 0 1px 3px 1px rgba(60, 64, 67, 0.15);\n",
              "    fill: var(--button-hover-fill-color);\n",
              "  }\n",
              "\n",
              "  .colab-df-quickchart-complete:disabled,\n",
              "  .colab-df-quickchart-complete:disabled:hover {\n",
              "    background-color: var(--disabled-bg-color);\n",
              "    fill: var(--disabled-fill-color);\n",
              "    box-shadow: none;\n",
              "  }\n",
              "\n",
              "  .colab-df-spinner {\n",
              "    border: 2px solid var(--fill-color);\n",
              "    border-color: transparent;\n",
              "    border-bottom-color: var(--fill-color);\n",
              "    animation:\n",
              "      spin 1s steps(1) infinite;\n",
              "  }\n",
              "\n",
              "  @keyframes spin {\n",
              "    0% {\n",
              "      border-color: transparent;\n",
              "      border-bottom-color: var(--fill-color);\n",
              "      border-left-color: var(--fill-color);\n",
              "    }\n",
              "    20% {\n",
              "      border-color: transparent;\n",
              "      border-left-color: var(--fill-color);\n",
              "      border-top-color: var(--fill-color);\n",
              "    }\n",
              "    30% {\n",
              "      border-color: transparent;\n",
              "      border-left-color: var(--fill-color);\n",
              "      border-top-color: var(--fill-color);\n",
              "      border-right-color: var(--fill-color);\n",
              "    }\n",
              "    40% {\n",
              "      border-color: transparent;\n",
              "      border-right-color: var(--fill-color);\n",
              "      border-top-color: var(--fill-color);\n",
              "    }\n",
              "    60% {\n",
              "      border-color: transparent;\n",
              "      border-right-color: var(--fill-color);\n",
              "    }\n",
              "    80% {\n",
              "      border-color: transparent;\n",
              "      border-right-color: var(--fill-color);\n",
              "      border-bottom-color: var(--fill-color);\n",
              "    }\n",
              "    90% {\n",
              "      border-color: transparent;\n",
              "      border-bottom-color: var(--fill-color);\n",
              "    }\n",
              "  }\n",
              "</style>\n",
              "\n",
              "      <script>\n",
              "        async function quickchart(key) {\n",
              "          const quickchartButtonEl =\n",
              "            document.querySelector('#' + key + ' button');\n",
              "          quickchartButtonEl.disabled = true;  // To prevent multiple clicks.\n",
              "          quickchartButtonEl.classList.add('colab-df-spinner');\n",
              "          try {\n",
              "            const charts = await google.colab.kernel.invokeFunction(\n",
              "                'suggestCharts', [key], {});\n",
              "          } catch (error) {\n",
              "            console.error('Error during call to suggestCharts:', error);\n",
              "          }\n",
              "          quickchartButtonEl.classList.remove('colab-df-spinner');\n",
              "          quickchartButtonEl.classList.add('colab-df-quickchart-complete');\n",
              "        }\n",
              "        (() => {\n",
              "          let quickchartButtonEl =\n",
              "            document.querySelector('#df-9aa3beef-5c2e-40d2-ab3b-1738e65a8204 button');\n",
              "          quickchartButtonEl.style.display =\n",
              "            google.colab.kernel.accessAllowed ? 'block' : 'none';\n",
              "        })();\n",
              "      </script>\n",
              "    </div>\n",
              "\n",
              "    </div>\n",
              "  </div>\n"
            ],
            "application/vnd.google.colaboratory.intrinsic+json": {
              "type": "dataframe",
              "summary": "{\n  \"name\": \"synthetic_dataset\",\n  \"rows\": 5,\n  \"fields\": [\n    {\n      \"column\": \"patient_id\",\n      \"properties\": {\n        \"dtype\": \"string\",\n        \"num_unique_values\": 5,\n        \"samples\": [\n          \"pmc-6415376-2\",\n          \"pmc-6163617-1\",\n          \"pmc-6433976-1\"\n        ],\n        \"semantic_type\": \"\",\n        \"description\": \"\"\n      }\n    },\n    {\n      \"column\": \"first_name\",\n      \"properties\": {\n        \"dtype\": \"string\",\n        \"num_unique_values\": 5,\n        \"samples\": [\n          \"Jennifer\",\n          \"Allen\",\n          \"Tracy\"\n        ],\n        \"semantic_type\": \"\",\n        \"description\": \"\"\n      }\n    },\n    {\n      \"column\": \"last_name\",\n      \"properties\": {\n        \"dtype\": \"string\",\n        \"num_unique_values\": 5,\n        \"samples\": [\n          \"Ellis\",\n          \"Carrillo\",\n          \"Wallace\"\n        ],\n        \"semantic_type\": \"\",\n        \"description\": \"\"\n      }\n    },\n    {\n      \"column\": \"date_of_birth\",\n      \"properties\": {\n        \"dtype\": \"object\",\n        \"num_unique_values\": 5,\n        \"samples\": [\n          \"11/21/1949\",\n          \"01/23/1964\",\n          \"11/22/1947\"\n        ],\n        \"semantic_type\": \"\",\n        \"description\": \"\"\n      }\n    },\n    {\n      \"column\": \"race\",\n      \"properties\": {\n        \"dtype\": \"string\",\n        \"num_unique_values\": 5,\n        \"samples\": [\n          \"White\",\n          \"Hispanic\",\n          \"Black or African American\"\n        ],\n        \"semantic_type\": \"\",\n        \"description\": \"\"\n      }\n    },\n    {\n      \"column\": \"weight\",\n      \"properties\": {\n        \"dtype\": \"number\",\n        \"std\": 56.78732252888844,\n        \"min\": 50.0,\n        \"max\": 185.0,\n        \"num_unique_values\": 5,\n        \"samples\": [\n          150.0,\n          178.0,\n          185.0\n        ],\n        \"semantic_type\": \"\",\n        \"description\": \"\"\n      }\n    },\n    {\n      \"column\": \"height\",\n      \"properties\": {\n        \"dtype\": \"number\",\n        \"std\": 10.222524150130436,\n        \"min\": 45.0,\n        \"max\": 70.0,\n        \"num_unique_values\": 4,\n        \"samples\": [\n          62.0,\n          45.0,\n          63.0\n        ],\n        \"semantic_type\": \"\",\n        \"description\": \"\"\n      }\n    },\n    {\n      \"column\": \"event_type\",\n      \"properties\": {\n        \"dtype\": \"string\",\n        \"num_unique_values\": 4,\n        \"samples\": [\n          \"Symptom\",\n          \"Medical Examination\",\n          \"Admission\"\n        ],\n        \"semantic_type\": \"\",\n        \"description\": \"\"\n      }\n    },\n    {\n      \"column\": \"event_date\",\n      \"properties\": {\n        \"dtype\": \"object\",\n        \"num_unique_values\": 5,\n        \"samples\": [\n          \"04/12/2023\",\n          \"10/12/2023\",\n          \"03/15/2023\"\n        ],\n        \"semantic_type\": \"\",\n        \"description\": \"\"\n      }\n    },\n    {\n      \"column\": \"event_name\",\n      \"properties\": {\n        \"dtype\": \"string\",\n        \"num_unique_values\": 5,\n        \"samples\": [\n          \"Abdominal pain assessment\",\n          \"Null\",\n          \"HIV test\"\n        ],\n        \"semantic_type\": \"\",\n        \"description\": \"\"\n      }\n    },\n    {\n      \"column\": \"provider_name\",\n      \"properties\": {\n        \"dtype\": \"string\",\n        \"num_unique_values\": 5,\n        \"samples\": [\n          \"Dr. Imani Patel\",\n          \"Saint Mary's Healthcare\",\n          \"Central Clinic\"\n        ],\n        \"semantic_type\": \"\",\n        \"description\": \"\"\n      }\n    },\n    {\n      \"column\": \"reason\",\n      \"properties\": {\n        \"dtype\": \"string\",\n        \"num_unique_values\": 5,\n        \"samples\": [\n          \"Reporting abdominal pain in left upper quadrant for over 3 months\",\n          \"Discharge from hospital due to COVID pandemic\",\n          \"Routine checkup\"\n        ],\n        \"semantic_type\": \"\",\n        \"description\": \"\"\n      }\n    },\n    {\n      \"column\": \"result\",\n      \"properties\": {\n        \"dtype\": \"string\",\n        \"num_unique_values\": 5,\n        \"samples\": [\n          \"Non-tender, non-bloody\",\n          \"Patients were transferred to ICU upon arrival at St. Mary's Hospital\",\n          \"Positive\"\n        ],\n        \"semantic_type\": \"\",\n        \"description\": \"\"\n      }\n    },\n    {\n      \"column\": \"details\",\n      \"properties\": {\n        \"dtype\": \"string\",\n        \"num_unique_values\": 4,\n        \"samples\": [\n          \"{\\\"intensity\\\":\\\"moderate\\\", \\\"location\\\":\\\"left upper quadrant\\\"}\",\n          \"{\\\"intensity\\\": null, \\\"locaton\\\": null, \\\"dosage\\\": null, \\\"frequency\\\": null}\",\n          \"{}\"\n        ],\n        \"semantic_type\": \"\",\n        \"description\": \"\"\n      }\n    },\n    {\n      \"column\": \"notes\",\n      \"properties\": {\n        \"dtype\": \"string\",\n        \"num_unique_values\": 5,\n        \"samples\": [\n          \"The patient showed moderate tenderness during physical examination, indicative of possible inflammation\",\n          \"Our patients met no immediate complications other than mild fever upon transfer; they have been given antibiotics and continued treatments as per their conditions\",\n          \"The HIV test showed positive results confirming previous diagnoses. Regular monitoring recommended.\"\n        ],\n        \"semantic_type\": \"\",\n        \"description\": \"\"\n      }\n    }\n  ]\n}"
            }
          },
          "metadata": {},
          "execution_count": 6
        }
      ],
      "source": [
        "synthetic_dataset.dataset.df.head()"
      ]
    },
    {
      "cell_type": "markdown",
      "metadata": {
        "id": "HVRIw4IH8bzR"
      },
      "source": [
        "## 📊 Evaluate quality & privacy results"
      ]
    },
    {
      "cell_type": "code",
      "execution_count": null,
      "metadata": {
        "colab": {
          "background_save": true
        },
        "id": "TvXGWJpLSTWJ"
      },
      "outputs": [],
      "source": [
        "synthetic_dataset.report.table"
      ]
    },
    {
      "cell_type": "code",
      "execution_count": null,
      "metadata": {
        "colab": {
          "background_save": true
        },
        "id": "8Ue-7rS4DCEt"
      },
      "outputs": [],
      "source": [
        "synthetic_dataset.report.display_in_notebook()"
      ]
    }
  ],
  "metadata": {
    "colab": {
      "provenance": [],
      "include_colab_link": true
    },
    "kernelspec": {
      "display_name": "Python 3",
      "name": "python3"
    },
    "language_info": {
      "name": "python"
    }
  },
  "nbformat": 4,
  "nbformat_minor": 0
}